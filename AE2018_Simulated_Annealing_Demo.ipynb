{
 "cells": [
  {
   "cell_type": "markdown",
   "metadata": {},
   "source": [
    "# Simulated Annealing Demo\n",
    "\n",
    "Skrypt przedstawia przykładową implementację algorytmu symulowanego wyżarzania (ang. Simulated Annealing, SA) i jego zastosowanie do rozwiązywania problemu Quadratic Assignment Problem (QAP). Problem jest dokładnie opisany m.in. w pracy Burkarda i innych [1]. Popularne instancje problemu QAP można znaleźć w bibliotece QAPLib [2]. Skrypt skupia się na rozwiązywaniu instancji NUG12 [3], w celu rozwiązywania innych instancji może okazać się konieczna zmiana ustawień parametrów algorytmu.\n",
    "\n",
    "Literatura:\n",
    "\n",
    "[1]  Burkard, R., Cela, E., Pardalos, P., Pitsoulis, L., \"The Quadratic Assignment Problem\", http://citeseerx.ist.psu.edu/viewdoc/summary?doi=10.1.1.217.1914\n",
    "\n",
    "[2] QAPLIB, http://anjos.mgi.polymtl.ca/qaplib/\n",
    "\n",
    "[3] NUG12, http://anjos.mgi.polymtl.ca/qaplib/data.d/nug12.dat"
   ]
  },
  {
   "cell_type": "raw",
   "metadata": {},
   "source": [
    "# Popularne instancje QAP wraz z dokładnym minimum funkcji celu\n",
    "   Nug12   12    578 (OPT)    (12,7,9,3,4,8,11,1,5,6,10,2)                 \n",
    "   Nug14   14   1014 (OPT)    (9,8,13,2,1,11,7,14,3,4,12,5,6,10)            \n",
    "   Nug15   15   1150 (OPT)    (1,2,13,8,9,4,3,14,7,11,10,15,6,5,12)          \n",
    "   Nug16a  16   1610 (OPT)    (9,14,2,15,16,3,10,12,8,11,6,5,7,1,4,13)      \n",
    "   Nug16b  16   1240 (OPT)    (16,12,13,8,4,2,9,11,15,10,7,3,14,6,1,5)       \n",
    "   Nug17   17   1732 (OPT)    (16,15,2,14,9,11,8,12,10,3,4,1,7,6,13,17,5)       \n",
    "   Nug18   18   1930 (OPT)    (10,3,14,2,18,6,7,12,15,4,5,1,11,8,17,13,9,16)     \n",
    "   Nug20   20   2570 (OPT)    (18,14,10,3,9,4,2,12,11,16,19,15,20,8,13,17,5,7,1,6)\n",
    "   Nug21   21   2438 (OPT)    (4,21,3,9,13,2,5,14,18,11,16,10,6,15,20,19,8,7,1,12,17) \n",
    "   Nug22   22   3596 (OPT)    (2,21,9,10,7,3,1,19,8,20,17,5,13,6,12,16,11,22,18,14,15) \n",
    "   Nug24   24   3488 (OPT)    (17,8,11,23,4,20,15,19,22,18,3,14,1,10,7,9,16,21,24,12,6,13,5,2)\n",
    "   Nug25   25   3744 (OPT)    (5,11,20,15,22,2,25,8,9,1,18,16,3,6,19,24,21,14,7,10,17,12,4,23,13)\n",
    "*  Nug27   27   5234 (OPT)    (23,18,3,1,27,17,5,12,7,15,4,26,8,19,20,2,24,21,14,10,9,13,22,25,6,16,11)\n",
    "*  Nug28   28   5166 (OPT)    (18,21,9,1,28,20,11,3,13,12,10,19,14,22,15,2,25,16,4,23,7,17,24,26,5,27,8,6)\n",
    "*  Nug30   30   6124 (OPT)    (5 12 6 13 2 21 26 24 10 9 29 28 17 1 8 7 19 25 23 22 11 16 30 4 15 18 27 3 14 20)   "
   ]
  },
  {
   "cell_type": "code",
   "execution_count": 1,
   "metadata": {
    "collapsed": true
   },
   "outputs": [],
   "source": [
    "import numpy as np\n",
    "import matplotlib.pyplot as plt\n",
    "import time\n",
    "import urllib.request\n",
    "\n",
    "%matplotlib inline"
   ]
  },
  {
   "cell_type": "code",
   "execution_count": 42,
   "metadata": {
    "collapsed": true
   },
   "outputs": [],
   "source": [
    "QAP_INSTANCE_URL = 'http://anjos.mgi.polymtl.ca/qaplib/data.d/nug22.dat'"
   ]
  },
  {
   "cell_type": "markdown",
   "metadata": {},
   "source": [
    "## Reading input data"
   ]
  },
  {
   "cell_type": "code",
   "execution_count": 43,
   "metadata": {},
   "outputs": [
    {
     "name": "stdout",
     "output_type": "stream",
     "text": [
      "Problem size: 22\n",
      "Flow matrix:\n",
      " [[  0.   1.   2.   3.   4.   5.   6.   7.   8.   9.  10.   1.   2.   3.\n",
      "    4.   5.   6.   7.   8.   9.  10.  11.]\n",
      " [  1.   0.   1.   2.   3.   4.   5.   6.   7.   8.   9.   2.   1.   2.\n",
      "    3.   4.   5.   6.   7.   8.   9.  10.]\n",
      " [  2.   1.   0.   1.   2.   3.   4.   5.   6.   7.   8.   3.   2.   1.\n",
      "    2.   3.   4.   5.   6.   7.   8.   9.]\n",
      " [  3.   2.   1.   0.   1.   2.   3.   4.   5.   6.   7.   4.   3.   2.\n",
      "    1.   2.   3.   4.   5.   6.   7.   8.]\n",
      " [  4.   3.   2.   1.   0.   1.   2.   3.   4.   5.   6.   5.   4.   3.\n",
      "    2.   1.   2.   3.   4.   5.   6.   7.]\n",
      " [  5.   4.   3.   2.   1.   0.   1.   2.   3.   4.   5.   6.   5.   4.\n",
      "    3.   2.   1.   2.   3.   4.   5.   6.]\n",
      " [  6.   5.   4.   3.   2.   1.   0.   1.   2.   3.   4.   7.   6.   5.\n",
      "    4.   3.   2.   1.   2.   3.   4.   5.]\n",
      " [  7.   6.   5.   4.   3.   2.   1.   0.   1.   2.   3.   8.   7.   6.\n",
      "    5.   4.   3.   2.   1.   2.   3.   4.]\n",
      " [  8.   7.   6.   5.   4.   3.   2.   1.   0.   1.   2.   9.   8.   7.\n",
      "    6.   5.   4.   3.   2.   1.   2.   3.]\n",
      " [  9.   8.   7.   6.   5.   4.   3.   2.   1.   0.   1.  10.   9.   8.\n",
      "    7.   6.   5.   4.   3.   2.   1.   2.]\n",
      " [ 10.   9.   8.   7.   6.   5.   4.   3.   2.   1.   0.  11.  10.   9.\n",
      "    8.   7.   6.   5.   4.   3.   2.   1.]\n",
      " [  1.   2.   3.   4.   5.   6.   7.   8.   9.  10.  11.   0.   1.   2.\n",
      "    3.   4.   5.   6.   7.   8.   9.  10.]\n",
      " [  2.   1.   2.   3.   4.   5.   6.   7.   8.   9.  10.   1.   0.   1.\n",
      "    2.   3.   4.   5.   6.   7.   8.   9.]\n",
      " [  3.   2.   1.   2.   3.   4.   5.   6.   7.   8.   9.   2.   1.   0.\n",
      "    1.   2.   3.   4.   5.   6.   7.   8.]\n",
      " [  4.   3.   2.   1.   2.   3.   4.   5.   6.   7.   8.   3.   2.   1.\n",
      "    0.   1.   2.   3.   4.   5.   6.   7.]\n",
      " [  5.   4.   3.   2.   1.   2.   3.   4.   5.   6.   7.   4.   3.   2.\n",
      "    1.   0.   1.   2.   3.   4.   5.   6.]\n",
      " [  6.   5.   4.   3.   2.   1.   2.   3.   4.   5.   6.   5.   4.   3.\n",
      "    2.   1.   0.   1.   2.   3.   4.   5.]\n",
      " [  7.   6.   5.   4.   3.   2.   1.   2.   3.   4.   5.   6.   5.   4.\n",
      "    3.   2.   1.   0.   1.   2.   3.   4.]\n",
      " [  8.   7.   6.   5.   4.   3.   2.   1.   2.   3.   4.   7.   6.   5.\n",
      "    4.   3.   2.   1.   0.   1.   2.   3.]\n",
      " [  9.   8.   7.   6.   5.   4.   3.   2.   1.   2.   3.   8.   7.   6.\n",
      "    5.   4.   3.   2.   1.   0.   1.   2.]\n",
      " [ 10.   9.   8.   7.   6.   5.   4.   3.   2.   1.   2.   9.   8.   7.\n",
      "    6.   5.   4.   3.   2.   1.   0.   1.]\n",
      " [ 11.  10.   9.   8.   7.   6.   5.   4.   3.   2.   1.  10.   9.   8.\n",
      "    7.   6.   5.   4.   3.   2.   1.   0.]]\n",
      "Distance matrix:\n",
      " [[  0.   3.   2.   0.   0.   2.  10.   5.   0.   5.   2.   5.   0.   0.\n",
      "    2.   0.   5.   6.   3.   0.   1.  10.]\n",
      " [  3.   0.   4.   0.  10.   4.   0.   0.   2.   2.   1.   0.   5.   0.\n",
      "    0.   0.   0.   2.   0.   1.   6.   1.]\n",
      " [  2.   4.   0.   3.   4.   0.   5.   5.   5.   1.   4.   1.   0.   4.\n",
      "    0.   4.   0.   6.   3.   2.   5.   5.]\n",
      " [  0.   0.   3.   0.   0.   0.   0.   2.   2.   0.   6.   0.   2.   5.\n",
      "    2.   5.   1.   1.   1.   1.   2.   2.]\n",
      " [  0.  10.   4.   0.   0.   5.   2.   0.   0.   0.   0.   2.   0.   0.\n",
      "    0.   0.   2.   1.   0.   0.   2.   0.]\n",
      " [  2.   4.   0.   0.   5.   0.   1.   2.   2.   1.   4.  10.  10.   2.\n",
      "    5.   5.   0.   5.   0.   0.   0.  10.]\n",
      " [ 10.   0.   5.   0.   2.   1.   0.  10.  10.   5.  10.  10.   6.   0.\n",
      "    0.  10.   2.   1.  10.   1.   5.   5.]\n",
      " [  5.   0.   5.   2.   0.   2.  10.   0.   1.   3.   5.   0.   0.   0.\n",
      "    2.   4.   5.   2.  10.   6.   0.   5.]\n",
      " [  0.   2.   5.   2.   0.   2.  10.   1.   0.  10.   2.   1.   5.   2.\n",
      "    0.   3.   0.   2.   0.   0.   4.   0.]\n",
      " [  5.   2.   1.   0.   0.   1.   5.   3.  10.   0.   5.   5.   6.   0.\n",
      "    1.   5.   5.   0.   5.   2.   3.   5.]\n",
      " [  2.   1.   4.   6.   0.   4.  10.   5.   2.   5.   0.   0.   0.   1.\n",
      "    2.   1.   0.   2.   0.   0.   0.   6.]\n",
      " [  5.   0.   1.   0.   2.  10.  10.   0.   1.   5.   0.   0.   5.   5.\n",
      "    2.   0.   0.   0.   0.   2.   0.   4.]\n",
      " [  0.   5.   0.   2.   0.  10.   6.   0.   5.   6.   0.   5.   0.   2.\n",
      "    0.   4.   2.   2.   1.   0.   6.   2.]\n",
      " [  0.   0.   4.   5.   0.   2.   0.   0.   2.   0.   1.   5.   2.   0.\n",
      "    2.   1.   0.   5.   3.  10.   0.   0.]\n",
      " [  2.   0.   0.   2.   0.   5.   0.   2.   0.   1.   2.   2.   0.   2.\n",
      "    0.   4.   5.   1.   0.   1.   0.   5.]\n",
      " [  0.   0.   4.   5.   0.   5.  10.   4.   3.   5.   1.   0.   4.   1.\n",
      "    4.   0.   0.   3.   0.   2.   2.   0.]\n",
      " [  5.   0.   0.   1.   2.   0.   2.   5.   0.   5.   0.   0.   2.   0.\n",
      "    5.   0.   0.   2.   2.   0.   0.   0.]\n",
      " [  6.   2.   6.   1.   1.   5.   1.   2.   2.   0.   2.   0.   2.   5.\n",
      "    1.   3.   2.   0.   5.   1.   2.  10.]\n",
      " [  3.   0.   3.   1.   0.   0.  10.  10.   0.   5.   0.   0.   1.   3.\n",
      "    0.   0.   2.   5.   0.   0.   5.   5.]\n",
      " [  0.   1.   2.   1.   0.   0.   1.   6.   0.   2.   0.   2.   0.  10.\n",
      "    1.   2.   0.   1.   0.   0.   5.   2.]\n",
      " [  1.   6.   5.   2.   2.   0.   5.   0.   4.   3.   0.   0.   6.   0.\n",
      "    0.   2.   0.   2.   5.   5.   0.   4.]\n",
      " [ 10.   1.   5.   2.   0.  10.   5.   5.   0.   5.   6.   4.   2.   0.\n",
      "    5.   0.   0.  10.   5.   2.   4.   0.]]\n"
     ]
    }
   ],
   "source": [
    "qap_instance_file = urllib.request.urlopen(QAP_INSTANCE_URL)\n",
    "\n",
    "line = qap_instance_file.readline()\n",
    "n = int(line.decode()[:-1].split()[0])\n",
    "print('Problem size: %d' % n)\n",
    "\n",
    "A = np.empty((n, n))\n",
    "qap_instance_file.readline()\n",
    "for i in range(n):\n",
    "    line = qap_instance_file.readline()\n",
    "    A[i, :] = list(map(int, line.decode()[:-1].split()))\n",
    "print('Flow matrix:\\n', A)\n",
    "\n",
    "B = np.empty((n, n))\n",
    "qap_instance_file.readline()\n",
    "for i in range(n):\n",
    "    line = qap_instance_file.readline()\n",
    "    B[i, :] = list(map(int, line.decode()[:-1].split()))\n",
    "print('Distance matrix:\\n', B)"
   ]
  },
  {
   "cell_type": "markdown",
   "metadata": {},
   "source": [
    "## Objective function"
   ]
  },
  {
   "cell_type": "code",
   "execution_count": 44,
   "metadata": {
    "collapsed": true
   },
   "outputs": [],
   "source": [
    "def qap_objective_function(p):\n",
    "    s = 0.0\n",
    "    for i in range(n):\n",
    "        s += (A[i, :] * B[p[i], p]).sum()\n",
    "    return s"
   ]
  },
  {
   "cell_type": "code",
   "execution_count": 5,
   "metadata": {},
   "outputs": [
    {
     "ename": "ValueError",
     "evalue": "operands could not be broadcast together with shapes (14,) (12,) ",
     "output_type": "error",
     "traceback": [
      "\u001b[0;31m---------------------------------------------------------------------------\u001b[0m",
      "\u001b[0;31mValueError\u001b[0m                                Traceback (most recent call last)",
      "\u001b[0;32m<ipython-input-5-d409e24b9e94>\u001b[0m in \u001b[0;36m<module>\u001b[0;34m()\u001b[0m\n\u001b[1;32m      1\u001b[0m \u001b[0mp\u001b[0m \u001b[0;34m=\u001b[0m \u001b[0;34m[\u001b[0m\u001b[0;36m11\u001b[0m\u001b[0;34m,\u001b[0m \u001b[0;36m6\u001b[0m\u001b[0;34m,\u001b[0m \u001b[0;36m8\u001b[0m\u001b[0;34m,\u001b[0m \u001b[0;36m2\u001b[0m\u001b[0;34m,\u001b[0m \u001b[0;36m3\u001b[0m\u001b[0;34m,\u001b[0m \u001b[0;36m7\u001b[0m\u001b[0;34m,\u001b[0m \u001b[0;36m10\u001b[0m\u001b[0;34m,\u001b[0m \u001b[0;36m0\u001b[0m\u001b[0;34m,\u001b[0m \u001b[0;36m4\u001b[0m\u001b[0;34m,\u001b[0m \u001b[0;36m5\u001b[0m\u001b[0;34m,\u001b[0m \u001b[0;36m9\u001b[0m\u001b[0;34m,\u001b[0m \u001b[0;36m1\u001b[0m\u001b[0;34m]\u001b[0m\u001b[0;34m\u001b[0m\u001b[0m\n\u001b[0;32m----> 2\u001b[0;31m \u001b[0mprint\u001b[0m\u001b[0;34m(\u001b[0m\u001b[0mqap_objective_function\u001b[0m\u001b[0;34m(\u001b[0m\u001b[0mp\u001b[0m\u001b[0;34m)\u001b[0m\u001b[0;34m,\u001b[0m \u001b[0mp\u001b[0m\u001b[0;34m)\u001b[0m\u001b[0;34m\u001b[0m\u001b[0m\n\u001b[0m",
      "\u001b[0;32m<ipython-input-4-fa51f6273f78>\u001b[0m in \u001b[0;36mqap_objective_function\u001b[0;34m(p)\u001b[0m\n\u001b[1;32m      2\u001b[0m     \u001b[0ms\u001b[0m \u001b[0;34m=\u001b[0m \u001b[0;36m0.0\u001b[0m\u001b[0;34m\u001b[0m\u001b[0m\n\u001b[1;32m      3\u001b[0m     \u001b[0;32mfor\u001b[0m \u001b[0mi\u001b[0m \u001b[0;32min\u001b[0m \u001b[0mrange\u001b[0m\u001b[0;34m(\u001b[0m\u001b[0mn\u001b[0m\u001b[0;34m)\u001b[0m\u001b[0;34m:\u001b[0m\u001b[0;34m\u001b[0m\u001b[0m\n\u001b[0;32m----> 4\u001b[0;31m         \u001b[0ms\u001b[0m \u001b[0;34m+=\u001b[0m \u001b[0;34m(\u001b[0m\u001b[0mA\u001b[0m\u001b[0;34m[\u001b[0m\u001b[0mi\u001b[0m\u001b[0;34m,\u001b[0m \u001b[0;34m:\u001b[0m\u001b[0;34m]\u001b[0m \u001b[0;34m*\u001b[0m \u001b[0mB\u001b[0m\u001b[0;34m[\u001b[0m\u001b[0mp\u001b[0m\u001b[0;34m[\u001b[0m\u001b[0mi\u001b[0m\u001b[0;34m]\u001b[0m\u001b[0;34m,\u001b[0m \u001b[0mp\u001b[0m\u001b[0;34m]\u001b[0m\u001b[0;34m)\u001b[0m\u001b[0;34m.\u001b[0m\u001b[0msum\u001b[0m\u001b[0;34m(\u001b[0m\u001b[0;34m)\u001b[0m\u001b[0;34m\u001b[0m\u001b[0m\n\u001b[0m\u001b[1;32m      5\u001b[0m     \u001b[0;32mreturn\u001b[0m \u001b[0ms\u001b[0m\u001b[0;34m\u001b[0m\u001b[0m\n",
      "\u001b[0;31mValueError\u001b[0m: operands could not be broadcast together with shapes (14,) (12,) "
     ]
    }
   ],
   "source": [
    "p = [11, 6, 8, 2, 3, 7, 10, 0, 4, 5, 9, 1]\n",
    "print(qap_objective_function(p), p)"
   ]
  },
  {
   "cell_type": "markdown",
   "metadata": {},
   "source": [
    "## Random Sampling"
   ]
  },
  {
   "cell_type": "code",
   "execution_count": 6,
   "metadata": {},
   "outputs": [
    {
     "name": "stdout",
     "output_type": "stream",
     "text": [
      "101.19657373428345\n",
      "602.0 [ 3  7  2 11  0  6 10  8  4  5  9  1]\n"
     ]
    }
   ],
   "source": [
    "t0 = time.time()\n",
    "\n",
    "T = 1000000\n",
    "\n",
    "permutations = np.empty((T, n), dtype=np.int64)\n",
    "costs = np.zeros(T)\n",
    "for i in range(T):\n",
    "    permutations[i, :] = np.random.permutation(n)\n",
    "    costs[i] = qap_objective_function(permutations[i, :])\n",
    "\n",
    "print(time.time() - t0)\n",
    "\n",
    "p = permutations[costs.argmin(), :]\n",
    "print(qap_objective_function(p), p)"
   ]
  },
  {
   "cell_type": "code",
   "execution_count": 7,
   "metadata": {},
   "outputs": [
    {
     "data": {
      "image/png": "[encoded data removed]",
      "text/plain": [
       "<matplotlib.figure.Figure at 0x7f1d1f0efc18>"
      ]
     },
     "metadata": {},
     "output_type": "display_data"
    },
    {
     "name": "stdout",
     "output_type": "stream",
     "text": [
      "811.966302 49.6820157043\n"
     ]
    }
   ],
   "source": [
    "plt.figure()\n",
    "plt.hist(costs, bins=100)\n",
    "plt.show()\n",
    "\n",
    "print(costs.mean(), costs.std())"
   ]
  },
  {
   "cell_type": "markdown",
   "metadata": {},
   "source": [
    "## Simulated Annealing"
   ]
  },
  {
   "cell_type": "code",
   "execution_count": 7,
   "metadata": {
    "collapsed": true
   },
   "outputs": [],
   "source": [
    "def random_neighbor(p, radius):\n",
    "    q = p.copy()\n",
    "    for r in range(radius):\n",
    "        i, j = np.random.choice(n, 2, replace=False)\n",
    "        q[i], q[j] = q[j], q[i]\n",
    "    return q"
   ]
  },
  {
   "cell_type": "code",
   "execution_count": 39,
   "metadata": {},
   "outputs": [
    {
     "name": "stdout",
     "output_type": "stream",
     "text": [
      "62.68988561630249 578.0\n"
     ]
    }
   ],
   "source": [
    "T = 500000\n",
    "radius = 1\n",
    "alpha = 0.9\n",
    "\n",
    "t0 = time.time()\n",
    "\n",
    "p = np.random.permutation(n)\n",
    "p_cost = qap_objective_function(p)\n",
    "costs = np.zeros(T)\n",
    "for t in range(T):\n",
    "    q = random_neighbor(p, radius)\n",
    "    q_cost = qap_objective_function(q)\n",
    "    if(q_cost < p_cost):\n",
    "        p, p_cost = q, q_cost\n",
    "    elif(np.random.rand() < np.exp(- alpha * (q_cost - p_cost) * t/T)):\n",
    "        p, p_cost = q, q_cost\n",
    "    costs[t] = p_cost\n",
    "\n",
    "print(time.time() - t0, costs.min())"
   ]
  },
  {
   "cell_type": "code",
   "execution_count": 40,
   "metadata": {},
   "outputs": [
    {
     "data": {
      "image/png": "[encoded data removed]",
      "text/plain": [
       "<matplotlib.figure.Figure at 0x7fdd025d1358>"
      ]
     },
     "metadata": {},
     "output_type": "display_data"
    }
   ],
   "source": [
    "plt.figure()\n",
    "plt.plot(costs)\n",
    "plt.show()"
   ]
  },
  {
   "cell_type": "markdown",
   "metadata": {
    "collapsed": true
   },
   "source": [
    "1)\n",
    "a)\n",
    "T = 500000\n",
    "radius = 1\n",
    "alpha = 0.9\n",
    "works on 12, 14, 15, 16b"
   ]
  },
  {
   "cell_type": "code",
   "execution_count": 48,
   "metadata": {},
   "outputs": [
    {
     "data": {
      "image/png": "[encoded data removed]",
      "text/plain": [
       "<matplotlib.figure.Figure at 0x7fdd026812e8>"
      ]
     },
     "metadata": {},
     "output_type": "display_data"
    }
   ],
   "source": [
    "# for 16a\n",
    "T = 5000\n",
    "C = 1000\n",
    "radius = 1\n",
    "alpha = 0.9\n",
    "\n",
    "results = np.zeros(C)\n",
    "for c in range(C):\n",
    "    p = np.random.permutation(n)\n",
    "    p_cost = qap_objective_function(p)\n",
    "    costs = np.zeros(T)\n",
    "    for t in range(T):\n",
    "        q = random_neighbor(p, radius)\n",
    "        q_cost = qap_objective_function(q)\n",
    "        if(q_cost < p_cost):\n",
    "            p, p_cost = q, q_cost\n",
    "        elif(np.random.rand() < np.exp(- alpha * (q_cost - p_cost) * t/T)):\n",
    "            p, p_cost = q, q_cost\n",
    "        costs[t] = p_cost\n",
    "    results[c] = costs.min()\n",
    "    \n",
    "plt.figure()\n",
    "plt.hist(results, bins=10)\n",
    "plt.show()\n"
   ]
  },
  {
   "cell_type": "code",
   "execution_count": 15,
   "metadata": {},
   "outputs": [
    {
     "data": {
      "image/png": "[encoded data removed]",
      "text/plain": [
       "<matplotlib.figure.Figure at 0x7fc2b76c84e0>"
      ]
     },
     "metadata": {},
     "output_type": "display_data"
    }
   ],
   "source": [
    "T = 50000\n",
    "radius = 1\n",
    "alpha = 0.9\n",
    "\n",
    "t0 = time.time()\n",
    "\n",
    "p = np.random.permutation(n)\n",
    "p_cost = qap_objective_function(p)\n",
    "\n",
    "succs = np.zeros(T+1)\n",
    "false_pos = np.zeros(T+1)\n",
    "\n",
    "for t in range(T):\n",
    "    q = random_neighbor(p, radius)\n",
    "    q_cost = qap_objective_function(q)\n",
    "    if(q_cost < p_cost):\n",
    "        p, p_cost = q, q_cost\n",
    "        succs[t+1] = succs[t] + 1\n",
    "        false_pos[t+1] = false_pos[t]\n",
    "    elif(np.random.rand() < np.exp(- alpha * (q_cost - p_cost) * t/T)):\n",
    "        p, p_cost = q, q_cost\n",
    "        succs[t+1] = succs[t]\n",
    "        false_pos[t+1] = false_pos[t] + 1\n",
    "    else:\n",
    "        succs[t+1] = succs[t]\n",
    "        false_pos[t+1] = false_pos[t]\n",
    "\n",
    "plt.figure()\n",
    "s_plot, = plt.plot(succs, label=\"successes\")\n",
    "fp_plot, = plt.plot(false_pos, label=\"false positives\")\n",
    "plt.legend([s_plot, fp_plot], ['successes', 'false positives'])\n",
    "plt.show()"
   ]
  },
  {
   "cell_type": "code",
   "execution_count": 26,
   "metadata": {},
   "outputs": [
    {
     "data": {
      "image/png": "[encoded data removed]",
      "text/plain": [
       "<matplotlib.figure.Figure at 0x7fc29567db70>"
      ]
     },
     "metadata": {},
     "output_type": "display_data"
    }
   ],
   "source": [
    "def perm_dist(p1, p2):\n",
    "    return sum([e1 == e2 for e1, e2 in zip(p1, p2)])\n",
    "\n",
    "\n",
    "T = 50000\n",
    "radius = 5\n",
    "alpha = 0.9\n",
    "\n",
    "t0 = time.time()\n",
    "\n",
    "p = np.random.permutation(n)\n",
    "p_cost = qap_objective_function(p)\n",
    "\n",
    "succs_dists = []\n",
    "\n",
    "for t in range(T):\n",
    "    q = random_neighbor(p, radius)\n",
    "    q_cost = qap_objective_function(q)\n",
    "    if(q_cost < p_cost):\n",
    "        succs_dists.append((perm_dist(p, q), p_cost - q_cost))\n",
    "        p, p_cost = q, q_cost\n",
    "    elif(np.random.rand() < np.exp(- alpha * (q_cost - p_cost) * t/T)):\n",
    "        p, p_cost = q, q_cost\n",
    "\n",
    "plt.figure()\n",
    "plt.scatter(*zip(*succs_dists))\n",
    "plt.show()"
   ]
  },
  {
   "cell_type": "code",
   "execution_count": 50,
   "metadata": {},
   "outputs": [
    {
     "name": "stdout",
     "output_type": "stream",
     "text": [
      "3596.0\n"
     ]
    },
    {
     "data": {
      "image/png": "[encoded data removed]",
      "text/plain": [
       "<matplotlib.figure.Figure at 0x7fc2a4bc4ac8>"
      ]
     },
     "metadata": {},
     "output_type": "display_data"
    }
   ],
   "source": [
    "T = 500000\n",
    "radius = 1\n",
    "alpha = 1\n",
    "base_alpha = alpha\n",
    "\n",
    "\n",
    "t0 = time.time()\n",
    "\n",
    "p = np.random.permutation(n)\n",
    "p_cost = qap_objective_function(p)\n",
    "costs = np.zeros(T)\n",
    "for t in range(T):\n",
    "    q = random_neighbor(p, radius)\n",
    "    q_cost = qap_objective_function(q)\n",
    "    if(q_cost < p_cost):\n",
    "        p, p_cost = q, q_cost\n",
    "        alpha = base_alpha\n",
    "    elif(np.random.rand() < np.exp(- alpha * (q_cost - p_cost) * t/T)):\n",
    "        p, p_cost = q, q_cost\n",
    "        alpha = base_alpha\n",
    "    else:\n",
    "        alpha = 1.001 * alpha\n",
    "    costs[t] = p_cost\n",
    "    \n",
    "print(costs.min())\n",
    "    \n",
    "plt.figure()\n",
    "plt.plot(costs)\n",
    "plt.show()"
   ]
  },
  {
   "cell_type": "code",
   "execution_count": 29,
   "metadata": {
    "collapsed": true
   },
   "outputs": [],
   "source": [
    "# 2\n",
    "import random\n",
    "T = 10000\n",
    "\n",
    "def random_invidual(p):\n",
    "    return np.array([r < e for r, e in zip(np.random.rand(len(p)), p)])\n",
    "\n",
    "def random_population(p, N):\n",
    "    return [random_invidual(p) for i in range(N)]\n",
    "\n",
    "def pbil(d, F, N, l, m_p, m_c):\n",
    "    p = [0.5 for i in range(d)]\n",
    "    population = random_population(p, N)\n",
    "    results = list(map(F, population))\n",
    "    for t in range(T):\n",
    "        _, best = max(enumerate(population), key=lambda i: results[i[0]])\n",
    "        for i in range(len(p)):\n",
    "            p[i] = p[i] * (1 - l) + l * best[i]\n",
    "            if random.randint(0, 1) < m_p:\n",
    "                p[i] = p[i] * (1 - m_c) + random.randint(0, 1) * m_c\n",
    "        population = random_population(p, N)\n",
    "        results = list(map(F, population))\n",
    "        if t % 1000 == 0:\n",
    "            print(t, sum(p))\n",
    "    return sum(p)\n"
   ]
  },
  {
   "cell_type": "code",
   "execution_count": 86,
   "metadata": {
    "collapsed": true
   },
   "outputs": [],
   "source": [
    "def OneMax(ind):\n",
    "    return ind.sum()\n",
    "\n",
    "def DeceptiveOneMax(ind):\n",
    "    s = ind.sum()\n",
    "    if s == 0:\n",
    "        return ind.size + 1\n",
    "    return s\n",
    "\n",
    "def K_DeceptiveOneMax(K):\n",
    "    def aux(ind):\n",
    "        s_global = 0\n",
    "        for i in range(ind.size // K):\n",
    "            s = ind[i*K:(i+1)*K].sum()\n",
    "            if s == 0:\n",
    "                s_global = s_global + K + 1\n",
    "            else:\n",
    "                s_global = s_global + s\n",
    "        return s_global\n",
    "    return aux"
   ]
  },
  {
   "cell_type": "code",
   "execution_count": 87,
   "metadata": {},
   "outputs": [
    {
     "name": "stdout",
     "output_type": "stream",
     "text": [
      "0 50.0492\n",
      "1000 59.0210489169\n",
      "2000 58.1203073319\n",
      "3000 59.475293234\n",
      "4000 59.631123503\n",
      "5000 59.0870918361\n",
      "6000 60.5521971107\n",
      "7000 58.9717099102\n",
      "8000 59.653176206\n",
      "9000 58.5780279728\n",
      "58.1229070087\n"
     ]
    }
   ],
   "source": [
    "print(pbil(100, OneMax, 24, 0.01, 0.1, 0.02))"
   ]
  },
  {
   "cell_type": "code",
   "execution_count": 88,
   "metadata": {},
   "outputs": [
    {
     "name": "stdout",
     "output_type": "stream",
     "text": [
      "0 49.9001\n",
      "1000 59.9225748426\n",
      "2000 59.3640072897\n",
      "3000 58.8944896204\n",
      "4000 59.393550431\n",
      "5000 60.5247514324\n",
      "6000 59.4579450894\n",
      "7000 59.0063580033\n",
      "8000 59.2326754071\n",
      "9000 59.4725164976\n",
      "58.9006242903\n"
     ]
    }
   ],
   "source": [
    "print(pbil(100, OneMax, 24, 0.01, 0.01, 0.02))"
   ]
  },
  {
   "cell_type": "code",
   "execution_count": 91,
   "metadata": {},
   "outputs": [
    {
     "name": "stdout",
     "output_type": "stream",
     "text": [
      "0 50.533\n",
      "1000 82.9901191109\n",
      "2000 83.6921718859\n",
      "3000 84.2656791711\n",
      "4000 83.5255722419\n",
      "5000 83.5974796566\n",
      "6000 84.2804938303\n",
      "7000 82.5480976437\n",
      "8000 83.5125017153\n",
      "9000 82.983277027\n",
      "82.76810425\n"
     ]
    }
   ],
   "source": [
    "print(pbil(100, OneMax, 24, 0.05, 0.01, 0.02))"
   ]
  },
  {
   "cell_type": "code",
   "execution_count": 92,
   "metadata": {},
   "outputs": [
    {
     "name": "stdout",
     "output_type": "stream",
     "text": [
      "0 50.5155\n",
      "1000 85.9595734005\n",
      "2000 85.4753740875\n",
      "3000 84.3650614035\n",
      "4000 86.1800159482\n",
      "5000 85.6610100285\n",
      "6000 86.077570095\n",
      "7000 85.4706184999\n",
      "8000 85.2035998215\n",
      "9000 86.8584000534\n",
      "85.2156186426\n"
     ]
    }
   ],
   "source": [
    "print(pbil(100, OneMax, 48, 0.05, 0.01, 0.02))"
   ]
  },
  {
   "cell_type": "code",
   "execution_count": 95,
   "metadata": {},
   "outputs": [
    {
     "name": "stdout",
     "output_type": "stream",
     "text": [
      "0 57.752\n",
      "1000 99.1275849592\n",
      "2000 99.089027257\n",
      "3000 98.9443432927\n",
      "4000 99.2912584814\n",
      "5000 99.1962470675\n",
      "6000 99.2030396517\n",
      "7000 99.1754614261\n",
      "8000 99.2564721053\n",
      "9000 99.2684436196\n",
      "99.2061071346\n"
     ]
    }
   ],
   "source": [
    "print(pbil(100, OneMax, 48, 0.6, 0.01, 0.02))"
   ]
  },
  {
   "cell_type": "code",
   "execution_count": 98,
   "metadata": {},
   "outputs": [
    {
     "name": "stdout",
     "output_type": "stream",
     "text": [
      "0 110.056\n",
      "1000 198.496112453\n",
      "2000 198.423682207\n",
      "3000 198.131303688\n",
      "4000 198.152142156\n",
      "5000 198.409464084\n",
      "6000 198.25312546\n",
      "7000 198.245671201\n",
      "8000 198.541796742\n",
      "9000 198.33035895\n",
      "198.374546199\n"
     ]
    }
   ],
   "source": [
    "print(pbil(200, OneMax, 48, 0.6, 0.01, 0.02))"
   ]
  },
  {
   "cell_type": "code",
   "execution_count": 94,
   "metadata": {},
   "outputs": [
    {
     "name": "stdout",
     "output_type": "stream",
     "text": [
      "0 52.704\n",
      "1000 98.8646772473\n",
      "2000 98.487764297\n",
      "3000 98.701620952\n",
      "4000 98.783284721\n",
      "5000 98.7773397578\n",
      "6000 98.7059580358\n",
      "7000 98.8170621845\n",
      "8000 98.7927646607\n",
      "9000 98.6346800415\n",
      "98.859970372\n"
     ]
    }
   ],
   "source": [
    "print(pbil(100, DeceptiveOneMax, 48, 0.4, 0.01, 0.02))"
   ]
  },
  {
   "cell_type": "code",
   "execution_count": 96,
   "metadata": {},
   "outputs": [
    {
     "name": "stdout",
     "output_type": "stream",
     "text": [
      "0 48.044\n",
      "1000 79.1634990981\n",
      "2000 79.2173645428\n",
      "3000 79.419893252\n",
      "4000 79.1579012814\n",
      "5000 79.4467004833\n",
      "6000 79.2844526544\n",
      "7000 79.044020308\n",
      "8000 79.2813911052\n",
      "9000 79.1331588763\n",
      "79.3382381902\n"
     ]
    }
   ],
   "source": [
    "print(pbil(100, K_DeceptiveOneMax(5), 48, 0.4, 0.01, 0.02))"
   ]
  },
  {
   "cell_type": "code",
   "execution_count": 97,
   "metadata": {},
   "outputs": [
    {
     "name": "stdout",
     "output_type": "stream",
     "text": [
      "0 49.128\n",
      "1000 78.6246271063\n",
      "2000 78.6391293726\n",
      "3000 78.7233329262\n",
      "4000 78.6018154891\n",
      "5000 78.5113801949\n",
      "6000 78.3784019034\n",
      "7000 78.3448183927\n",
      "8000 78.4844246297\n",
      "9000 78.6327281669\n",
      "78.5253450158\n"
     ]
    }
   ],
   "source": [
    "print(pbil(100, K_DeceptiveOneMax(5), 48, 0.2, 0.03, 0.02))"
   ]
  },
  {
   "cell_type": "code",
   "execution_count": 101,
   "metadata": {},
   "outputs": [
    {
     "name": "stdout",
     "output_type": "stream",
     "text": [
      "0 51.96\n",
      "1000 41.7508520658\n",
      "2000 40.3126946338\n",
      "3000 51.796816613\n",
      "4000 48.4485766123\n",
      "5000 47.7266734462\n",
      "6000 45.0678467318\n",
      "7000 41.5267271507\n",
      "8000 39.0745466963\n",
      "9000 55.4376244113\n",
      "55.5069653847\n"
     ]
    }
   ],
   "source": [
    "print(pbil(100, K_DeceptiveOneMax(4), 48, 0.2, 0.04, 0.1))"
   ]
  },
  {
   "cell_type": "code",
   "execution_count": 100,
   "metadata": {},
   "outputs": [
    {
     "name": "stdout",
     "output_type": "stream",
     "text": [
      "0 50.14\n",
      "1000 36.8439035395\n",
      "2000 32.88386332\n",
      "3000 42.5007065135\n",
      "4000 34.6129756624\n",
      "5000 35.7817108614\n",
      "6000 40.0831853369\n",
      "7000 41.8568052719\n",
      "8000 32.4247195305\n",
      "9000 36.6430861244\n",
      "40.8330521034\n"
     ]
    }
   ],
   "source": [
    "print(pbil(100, K_DeceptiveOneMax(4), 48, 0.2, 0.3, 0.1))"
   ]
  },
  {
   "cell_type": "code",
   "execution_count": 102,
   "metadata": {},
   "outputs": [
    {
     "name": "stdout",
     "output_type": "stream",
     "text": [
      "0 53.72\n",
      "1000 54.7105778886\n",
      "2000 57.7527743213\n",
      "3000 46.1168828503\n",
      "4000 48.7964105043\n",
      "5000 55.1658438911\n",
      "6000 52.953336848\n",
      "7000 47.2825635847\n",
      "8000 51.4899980639\n",
      "9000 52.1142121885\n",
      "52.30453276\n"
     ]
    }
   ],
   "source": [
    "print(pbil(100, K_DeceptiveOneMax(4), 48, 0.2, 0.04, 0.4))"
   ]
  },
  {
   "cell_type": "markdown",
   "metadata": {
    "collapsed": true
   },
   "source": [
    "zadanie 3"
   ]
  },
  {
   "cell_type": "code",
   "execution_count": null,
   "metadata": {},
   "outputs": [
    {
     "name": "stdout",
     "output_type": "stream",
     "text": [
      "0 0.907914438503\n",
      "10 0.958502673797\n",
      "20 0.970909090909\n",
      "30 0.973262032086\n",
      "40 0.977754010695\n",
      "50 0.978181818182\n",
      "60 0.98128342246\n",
      "70 0.980320855615\n",
      "80 0.980534759358\n",
      "90 0.982139037433\n",
      "100 0.981604278075\n",
      "110 0.98128342246\n",
      "120 0.982459893048\n",
      "130 0.983315508021\n",
      "140 0.983743315508\n",
      "150 0.983743315508\n",
      "160 0.98256684492\n",
      "170 0.983529411765\n",
      "180 0.983957219251\n"
     ]
    }
   ],
   "source": [
    "from scipy.stats import stats\n",
    "\n",
    "d = 266\n",
    "pixels = 9350\n",
    "T = 1000\n",
    "rules = np.ndarray(shape=(d, pixels))\n",
    "image_expert = []\n",
    "\n",
    "with open(\"./data/ClassificationRules.txt\") as fh:\n",
    "    for i, line in enumerate(fh):\n",
    "        rules[i] = np.array(list(map(float, line.strip().split()))).reshape(1, 9350)\n",
    "\n",
    "with open(\"./data/ImageExpertReduced.txt\") as fh:\n",
    "    image_expert = np.array(list(map(float, fh.read().strip().split())))\n",
    "\n",
    "def pbil(d, F, N, l, m_p, m_c):\n",
    "    p = [0.5 for i in range(d)]\n",
    "    population = random_population(p, N)\n",
    "    results = list(map(F, population))\n",
    "    for t in range(T):\n",
    "        if t % 10 == 0:\n",
    "            print(t, max(results) / pixels)\n",
    "        _, best = max(enumerate(population), key=lambda i: results[i[0]])\n",
    "        for i in range(len(p)):\n",
    "            p[i] = p[i] * (1 - l) + l * best[i]\n",
    "            if random.randint(0, 1) < m_p:\n",
    "                p[i] = p[i] * (1 - m_c) + random.randint(0, 1) * m_c\n",
    "        population = random_population(p, N)\n",
    "        results = list(map(F, population))\n",
    "    return sum(p)\n",
    "\n",
    "def classify_reward(d):\n",
    "    chosen_rules = rules[d]\n",
    "    classification = np.array(stats.mode(chosen_rules)[0][0])\n",
    "    return (classification == image_expert).sum()\n",
    "    \n",
    "    \n",
    "pbil(d, classify_reward, 50, 0.1, 0.05, 0.01)"
   ]
  },
  {
   "cell_type": "code",
   "execution_count": null,
   "metadata": {
    "collapsed": true
   },
   "outputs": [],
   "source": []
  },
  {
   "cell_type": "code",
   "execution_count": null,
   "metadata": {
    "collapsed": true
   },
   "outputs": [],
   "source": []
  }
 ],
 "metadata": {
  "kernelspec": {
   "display_name": "Python 3",
   "language": "python",
   "name": "python3"
  },
  "language_info": {
   "codemirror_mode": {
    "name": "ipython",
    "version": 3
   },
   "file_extension": ".py",
   "mimetype": "text/x-python",
   "name": "python",
   "nbconvert_exporter": "python",
   "pygments_lexer": "ipython3",
   "version": "3.6.3"
  }
 },
 "nbformat": 4,
 "nbformat_minor": 2
}
